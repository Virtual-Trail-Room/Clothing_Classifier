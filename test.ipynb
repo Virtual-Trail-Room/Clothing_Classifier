{
 "cells": [
  {
   "cell_type": "code",
   "execution_count": 4,
   "metadata": {},
   "outputs": [],
   "source": [
    "import torch\n",
    "from torch.utils.data import DataLoader\n",
    "from models.resnet_clothing_model import ClothingClassifier\n",
    "from data.dataset import GarmentDataset\n",
    "from utils.loss import compute_loss\n",
    "from utils.metrics import accuracy\n",
    "from data.transformation import CustomResNetTransform\n",
    "from tqdm import tqdm\n",
    "import matplotlib.pyplot as plt \n",
    "import pandas as pd\n",
    "from sklearn.model_selection import train_test_split\n",
    "from sklearn.metrics import f1_score, classification_report\n",
    "import numpy as np"
   ]
  },
  {
   "cell_type": "code",
   "execution_count": 5,
   "metadata": {},
   "outputs": [
    {
     "name": "stderr",
     "output_type": "stream",
     "text": [
      "/var/folders/nj/y687jr_s3vdc8l49m6_mn7sm0000gn/T/ipykernel_49126/1674405879.py:4: FutureWarning: The 'delim_whitespace' keyword in pd.read_csv is deprecated and will be removed in a future version. Use ``sep='\\s+'`` instead\n",
      "  df = pd.read_csv('dataset/list_category_img.txt', delim_whitespace=True, skiprows=1)\n",
      "/var/folders/nj/y687jr_s3vdc8l49m6_mn7sm0000gn/T/ipykernel_49126/1674405879.py:27: DeprecationWarning: DataFrameGroupBy.apply operated on the grouping columns. This behavior is deprecated, and in a future version of pandas the grouping columns will be excluded from the operation. Either pass `include_groups=False` to exclude the groupings or explicitly select the grouping columns after groupby to silence this warning.\n",
      "  balanced_train_df = train_df.groupby('category_label', group_keys=False).apply(\n"
     ]
    }
   ],
   "source": [
    "\"\"\"\n",
    "DATA SET UP\n",
    "\"\"\"\n",
    "df = pd.read_csv('dataset/list_category_img.txt', delim_whitespace=True, skiprows=1)\n",
    "selected_labels = [3, 6, 11, 16, 17, 18, 19, 26, 32, 33, 41]\n",
    "selected_names = [\"Blouse\", \"Cardigan\", \"Jacket\", \"Sweater\", \"Tank\", \"Tee\", \"Top\", \"Jeans\", \"Shorts\", \"Skirts\", \"Dress\"]\n",
    "df = df[df['category_label'].isin(selected_labels)]\n",
    "df = df.reset_index(drop=True)\n",
    "\n",
    "\n",
    "label_mapping = {original: new for new, original in enumerate(selected_labels)}\n",
    "df['category_label'] = df['category_label'].map(label_mapping)\n",
    "\n",
    "train_val_df, test_df = train_test_split(\n",
    "    df,\n",
    "    test_size=0.2,\n",
    "    random_state=1331,\n",
    "    stratify=df['category_label']\n",
    ")\n",
    "train_df, val_df = train_test_split(\n",
    "    train_val_df,\n",
    "    test_size=0.25,\n",
    "    random_state=1331,\n",
    "    stratify=train_val_df['category_label']\n",
    ")\n",
    "\n",
    "balanced_train_df = train_df.groupby('category_label', group_keys=False).apply(\n",
    "    lambda x: x.sample(n=1800, random_state=1331)\n",
    ").reset_index(drop=True)\n",
    "\n",
    "minority_classes = [2, 6, 7, 3, 1, 9, 4, 8]\n",
    "transform_strong = CustomResNetTransform(strong_aug=True)\n",
    "transform_normal = CustomResNetTransform(strong_aug=False)\n",
    "\n",
    "train_dataset = GarmentDataset(train_df, minority_classes, transform_strong, transform_normal)\n",
    "balanced_dataset = GarmentDataset(balanced_train_df, minority_classes, transform_strong, transform_normal)\n",
    "val_dataset = GarmentDataset(val_df, minority_classes, transform_strong, transform_normal)\n",
    "test_dataset = GarmentDataset(test_df, minority_classes, transform_strong, transform_normal)\n",
    "\n",
    "train_loader = DataLoader(train_dataset, batch_size=64, shuffle=True, num_workers=8)\n",
    "balanced_loader = DataLoader(balanced_dataset, batch_size=64, shuffle=True, num_workers=8)\n",
    "val_loader = DataLoader(val_dataset, batch_size=64, shuffle=True, num_workers=8)\n",
    "test_loader = DataLoader(test_dataset, batch_size=64, shuffle=True, num_workers=8)\n",
    "\n",
    "# Get class weights for loss function\n",
    "class_sample_counts = train_df['category_label'].value_counts().sort_index().tolist()\n",
    "class_counts_tensor = torch.tensor(class_sample_counts, dtype=torch.float)\n",
    "class_weights = 1.0 / class_counts_tensor\n",
    "class_weights = class_weights / class_weights.mean()"
   ]
  },
  {
   "cell_type": "code",
   "execution_count": 6,
   "metadata": {},
   "outputs": [
    {
     "name": "stdout",
     "output_type": "stream",
     "text": [
      "Using device: cpu\n"
     ]
    },
    {
     "name": "stderr",
     "output_type": "stream",
     "text": [
      "/Library/Frameworks/Python.framework/Versions/3.12/lib/python3.12/site-packages/torchvision/models/_utils.py:208: UserWarning: The parameter 'pretrained' is deprecated since 0.13 and may be removed in the future, please use 'weights' instead.\n",
      "  warnings.warn(\n",
      "/Library/Frameworks/Python.framework/Versions/3.12/lib/python3.12/site-packages/torchvision/models/_utils.py:223: UserWarning: Arguments other than a weight enum or `None` for 'weights' are deprecated since 0.13 and may be removed in the future. The current behavior is equivalent to passing `weights=ResNet50_Weights.IMAGENET1K_V1`. You can also use `weights=ResNet50_Weights.DEFAULT` to get the most up-to-date weights.\n",
      "  warnings.warn(msg)\n",
      "Testing:   0%|          | 1/743 [00:15<3:10:13, 15.38s/it]"
     ]
    }
   ],
   "source": [
    "device = torch.device(\"cuda\" if torch.cuda.is_available() else \"cpu\")\n",
    "print(f\"Using device: {device}\")\n",
    "\n",
    "all_preds = []\n",
    "all_targets = []\n",
    "\n",
    "NUM_CLASSES = 11\n",
    "FROZEN_LAYERS = 60\n",
    "model = ClothingClassifier(num_classes=NUM_CLASSES, num_frozen_resnet_layers=FROZEN_LAYERS, model_type='resnet').to(device)\n",
    "model.load_state_dict(torch.load('clothing_classifier2-0.pth', map_location=(\"cuda\" if torch.cuda.is_available() else \"cpu\")))\n",
    "model.eval()\n",
    "\n",
    "# Testing Loop: Collect predictions and true labels\n",
    "with torch.no_grad():\n",
    "    for images, category_id in tqdm(test_loader, desc=\"Testing\"):\n",
    "        images = images.to(device)\n",
    "        category_id = category_id.to(device)\n",
    "        preds = model(images)\n",
    "        # Get predicted class indices\n",
    "        predicted = torch.argmax(preds, dim=1)\n",
    "        # Append predictions and true labels to lists\n",
    "        all_preds.extend(predicted.cpu().numpy())\n",
    "        all_targets.extend(category_id.cpu().numpy())\n",
    "\n",
    "# Convert lists to numpy arrays for easier computation\n",
    "all_preds = np.array(all_preds)\n",
    "all_targets = np.array(all_targets)\n",
    "\n",
    "# Overall Test Accuracy\n",
    "total_correct = np.sum(all_preds == all_targets)\n",
    "total_samples = len(all_targets)\n",
    "test_accuracy = (total_correct / total_samples) * 100\n",
    "print(f\"Test Accuracy: {test_accuracy:.2f}%\\n\")\n",
    "\n",
    "# Compute Per-Class Accuracy\n",
    "unique_classes = np.unique(all_targets)\n",
    "per_class_accuracy = {}\n",
    "for cls in unique_classes:\n",
    "    cls_idx = (all_targets == cls)\n",
    "    accuracy_cls = np.mean(all_preds[cls_idx] == all_targets[cls_idx])\n",
    "    per_class_accuracy[cls] = accuracy_cls\n",
    "\n",
    "print(\"Per Class Accuracy:\")\n",
    "for cls, acc in per_class_accuracy.items():\n",
    "    print(f\"Class {cls}: {acc * 100:.2f}%\")\n",
    "\n",
    "# Compute F1 Scores\n",
    "f1_macro = f1_score(all_targets, all_preds, average='macro')\n",
    "f1_micro = f1_score(all_targets, all_preds, average='micro')\n",
    "f1_weighted = f1_score(all_targets, all_preds, average='weighted')\n",
    "\n",
    "print(\"\\nF1 Scores:\")\n",
    "print(f\"Macro F1: {f1_macro:.4f}\")\n",
    "print(f\"Micro F1: {f1_micro:.4f}\")\n",
    "print(f\"Weighted F1: {f1_weighted:.4f}\")\n",
    "\n",
    "# Optionally, view a detailed classification report:\n",
    "print(\"\\nClassification Report:\")\n",
    "print(classification_report(all_targets, all_preds, digits=4))\n",
    "\n"
   ]
  },
  {
   "cell_type": "code",
   "execution_count": null,
   "metadata": {},
   "outputs": [],
   "source": []
  }
 ],
 "metadata": {
  "kernelspec": {
   "display_name": "Python 3.12.3 64-bit",
   "language": "python",
   "name": "python3"
  },
  "language_info": {
   "codemirror_mode": {
    "name": "ipython",
    "version": 3
   },
   "file_extension": ".py",
   "mimetype": "text/x-python",
   "name": "python",
   "nbconvert_exporter": "python",
   "pygments_lexer": "ipython3",
   "version": "3.12.3"
  },
  "orig_nbformat": 4,
  "vscode": {
   "interpreter": {
    "hash": "aee8b7b246df8f9039afb4144a1f6fd8d2ca17a180786b69acc140d282b71a49"
   }
  }
 },
 "nbformat": 4,
 "nbformat_minor": 2
}
