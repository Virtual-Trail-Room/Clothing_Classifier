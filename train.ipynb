{
 "cells": [
  {
   "cell_type": "code",
   "execution_count": 1,
   "metadata": {},
   "outputs": [
    {
     "name": "stderr",
     "output_type": "stream",
     "text": [
      "/Library/Frameworks/Python.framework/Versions/3.12/lib/python3.12/site-packages/tqdm/auto.py:21: TqdmWarning: IProgress not found. Please update jupyter and ipywidgets. See https://ipywidgets.readthedocs.io/en/stable/user_install.html\n",
      "  from .autonotebook import tqdm as notebook_tqdm\n"
     ]
    }
   ],
   "source": [
    "import torch\n",
    "from torch.utils.data import DataLoader\n",
    "from models.resnet_clothing_model import ClothingClassifier\n",
    "from data.dataset import GarmentDataset\n",
    "from utils.loss import compute_loss\n",
    "from utils.metrics import accuracy\n",
    "from data.transformation import CustomResNetTransform\n",
    "from tqdm import tqdm\n",
    "import matplotlib.pyplot as plt \n",
    "import pandas as pd\n",
    "from sklearn.model_selection import train_test_split"
   ]
  },
  {
   "cell_type": "code",
   "execution_count": 2,
   "metadata": {},
   "outputs": [
    {
     "name": "stderr",
     "output_type": "stream",
     "text": [
      "/var/folders/nj/y687jr_s3vdc8l49m6_mn7sm0000gn/T/ipykernel_45429/1674405879.py:4: FutureWarning: The 'delim_whitespace' keyword in pd.read_csv is deprecated and will be removed in a future version. Use ``sep='\\s+'`` instead\n",
      "  df = pd.read_csv('dataset/list_category_img.txt', delim_whitespace=True, skiprows=1)\n",
      "/var/folders/nj/y687jr_s3vdc8l49m6_mn7sm0000gn/T/ipykernel_45429/1674405879.py:27: DeprecationWarning: DataFrameGroupBy.apply operated on the grouping columns. This behavior is deprecated, and in a future version of pandas the grouping columns will be excluded from the operation. Either pass `include_groups=False` to exclude the groupings or explicitly select the grouping columns after groupby to silence this warning.\n",
      "  balanced_train_df = train_df.groupby('category_label', group_keys=False).apply(\n"
     ]
    }
   ],
   "source": [
    "\"\"\"\n",
    "DATA SET UP\n",
    "\"\"\"\n",
    "df = pd.read_csv('dataset/list_category_img.txt', delim_whitespace=True, skiprows=1)\n",
    "selected_labels = [3, 6, 11, 16, 17, 18, 19, 26, 32, 33, 41]\n",
    "selected_names = [\"Blouse\", \"Cardigan\", \"Jacket\", \"Sweater\", \"Tank\", \"Tee\", \"Top\", \"Jeans\", \"Shorts\", \"Skirts\", \"Dress\"]\n",
    "df = df[df['category_label'].isin(selected_labels)]\n",
    "df = df.reset_index(drop=True)\n",
    "\n",
    "\n",
    "label_mapping = {original: new for new, original in enumerate(selected_labels)}\n",
    "df['category_label'] = df['category_label'].map(label_mapping)\n",
    "\n",
    "train_val_df, test_df = train_test_split(\n",
    "    df,\n",
    "    test_size=0.2,\n",
    "    random_state=1331,\n",
    "    stratify=df['category_label']\n",
    ")\n",
    "train_df, val_df = train_test_split(\n",
    "    train_val_df,\n",
    "    test_size=0.25,\n",
    "    random_state=1331,\n",
    "    stratify=train_val_df['category_label']\n",
    ")\n",
    "\n",
    "balanced_train_df = train_df.groupby('category_label', group_keys=False).apply(\n",
    "    lambda x: x.sample(n=1800, random_state=1331)\n",
    ").reset_index(drop=True)\n",
    "\n",
    "minority_classes = [2, 6, 7, 3, 1, 9, 4, 8]\n",
    "transform_strong = CustomResNetTransform(strong_aug=True)\n",
    "transform_normal = CustomResNetTransform(strong_aug=False)\n",
    "\n",
    "train_dataset = GarmentDataset(train_df, minority_classes, transform_strong, transform_normal)\n",
    "balanced_dataset = GarmentDataset(balanced_train_df, minority_classes, transform_strong, transform_normal)\n",
    "val_dataset = GarmentDataset(val_df, minority_classes, transform_strong, transform_normal)\n",
    "test_dataset = GarmentDataset(test_df, minority_classes, transform_strong, transform_normal)\n",
    "\n",
    "train_loader = DataLoader(train_dataset, batch_size=64, shuffle=True, num_workers=8)\n",
    "balanced_loader = DataLoader(balanced_dataset, batch_size=64, shuffle=True, num_workers=8)\n",
    "val_loader = DataLoader(val_dataset, batch_size=64, shuffle=True, num_workers=8)\n",
    "test_loader = DataLoader(test_dataset, batch_size=64, shuffle=True, num_workers=8)\n",
    "\n",
    "# Get class weights for loss function\n",
    "class_sample_counts = train_df['category_label'].value_counts().sort_index().tolist()\n",
    "class_counts_tensor = torch.tensor(class_sample_counts, dtype=torch.float)\n",
    "class_weights = 1.0 / class_counts_tensor\n",
    "class_weights = class_weights / class_weights.mean()"
   ]
  },
  {
   "cell_type": "code",
   "execution_count": 3,
   "metadata": {},
   "outputs": [
    {
     "name": "stdout",
     "output_type": "stream",
     "text": [
      "Using device: cpu\n"
     ]
    },
    {
     "name": "stderr",
     "output_type": "stream",
     "text": [
      "/Library/Frameworks/Python.framework/Versions/3.12/lib/python3.12/site-packages/torchvision/models/_utils.py:208: UserWarning: The parameter 'pretrained' is deprecated since 0.13 and may be removed in the future, please use 'weights' instead.\n",
      "  warnings.warn(\n",
      "/Library/Frameworks/Python.framework/Versions/3.12/lib/python3.12/site-packages/torchvision/models/_utils.py:223: UserWarning: Arguments other than a weight enum or `None` for 'weights' are deprecated since 0.13 and may be removed in the future. The current behavior is equivalent to passing `weights=ResNet50_Weights.IMAGENET1K_V1`. You can also use `weights=ResNet50_Weights.DEFAULT` to get the most up-to-date weights.\n",
      "  warnings.warn(msg)\n",
      "/Library/Frameworks/Python.framework/Versions/3.12/lib/python3.12/site-packages/torch/optim/lr_scheduler.py:28: UserWarning: The verbose parameter is deprecated. Please use get_last_lr() to access the learning rate.\n",
      "  warnings.warn(\"The verbose parameter is deprecated. Please use get_last_lr() \"\n",
      "Epoch Train 1/22:   1%|          | 16/2227 [03:09<7:16:19, 11.84s/batch, loss=1.97]"
     ]
    }
   ],
   "source": [
    "\"\"\"\n",
    "TRAIN CODE\n",
    "\"\"\"\n",
    "\n",
    "device = torch.device(\"cuda\" if torch.cuda.is_available() else \"cpu\")\n",
    "print(f\"Using device: {device}\")\n",
    "\n",
    "NUM_CLASSES = 11\n",
    "FROZEN_LAYERS = 60\n",
    "LEARNING_RATE = 0.001\n",
    "NUM_EPOCHS = 22\n",
    "\n",
    "model = ClothingClassifier(num_classes=NUM_CLASSES, num_frozen_resnet_layers=FROZEN_LAYERS).to(device)\n",
    "optimizer = torch.optim.Adam(model.parameters(), lr=LEARNING_RATE)\n",
    "scheduler = torch.optim.lr_scheduler.ReduceLROnPlateau(\n",
    "    optimizer, mode='min', factor=0.1, patience=3, verbose=True\n",
    ")\n",
    "\n",
    "\n",
    "epoch_losses = []\n",
    "for epoch in range(NUM_EPOCHS):\n",
    "    model.train()\n",
    "    running_loss = 0.0\n",
    "    total_correct = 0\n",
    "    total_samples = 0\n",
    "\n",
    "    # 3) Training loop\n",
    "    with tqdm(train_loader, desc=f\"Epoch Train {epoch+1}/{NUM_EPOCHS}\", unit=\"batch\") as pbar:\n",
    "        for images, category_id in pbar:\n",
    "            images = images.to(device)\n",
    "            category_id = category_id.to(device)\n",
    "\n",
    "\n",
    "            optimizer.zero_grad()\n",
    "            preds = model(images)\n",
    "            loss = compute_loss(preds, {'category_id': category_id}, class_weights=class_weights.to(device))\n",
    "\n",
    "            loss.backward()\n",
    "            optimizer.step()\n",
    "\n",
    "            running_loss += loss.item()\n",
    "\n",
    "            batch_correct = accuracy(preds, category_id)\n",
    "            total_correct += batch_correct\n",
    "            total_samples += images.size(0)\n",
    "\n",
    "            pbar.set_postfix(loss=loss.item())\n",
    "\n",
    "    # 4) Check against a validator to adjust learning rate\n",
    "    model.eval()\n",
    "    val_loss = 0.0\n",
    "    with torch.no_grad():\n",
    "        with tqdm(val_loader, desc=f\"Epoch Val {epoch+1}/{NUM_EPOCHS}\", unit=\"batch\") as pbar:\n",
    "            for images, category_id in pbar:\n",
    "                images = images.to(device)\n",
    "                category_id = category_id.to(device)\n",
    "                preds = model(images)\n",
    "                loss = compute_loss(preds, {'category_id': category_id})\n",
    "                val_loss += loss.item()\n",
    "    val_loss /= len(val_loader)\n",
    "    scheduler.step(val_loss)\n",
    "    epoch_loss = running_loss / len(train_loader)\n",
    "    epoch_losses.append(epoch_loss)\n",
    "    epoch_accuracy = (total_correct / total_samples) * 100\n",
    "    print(f\"Epoch {epoch+1}/{NUM_EPOCHS}: Accuracy = {epoch_accuracy:.2f}%, Training Loss = {epoch_loss:.4f}, Validation Loss = {val_loss:.4f}\")\n",
    "print(\"Training complete. Saving model...\")\n",
    "torch.save(model.state_dict(), 'clothing_classifier.pth')\n",
    "print(\"Model saved.\")\n",
    "\n",
    "\n",
    "plt.subplot(1, 1, 1)\n",
    "plt.plot(epoch_losses, marker='o', color='red', label='Epoch Loss')\n",
    "plt.xlabel('Epoch')\n",
    "plt.ylabel('Loss')\n",
    "plt.title('Loss Across Epochs')\n",
    "plt.legend()\n",
    "\n",
    "plt.tight_layout()\n",
    "plt.show()"
   ]
  }
 ],
 "metadata": {
  "kernelspec": {
   "display_name": "Python 3.12.3 64-bit",
   "language": "python",
   "name": "python3"
  },
  "language_info": {
   "codemirror_mode": {
    "name": "ipython",
    "version": 3
   },
   "file_extension": ".py",
   "mimetype": "text/x-python",
   "name": "python",
   "nbconvert_exporter": "python",
   "pygments_lexer": "ipython3",
   "version": "3.12.3"
  },
  "orig_nbformat": 4,
  "vscode": {
   "interpreter": {
    "hash": "aee8b7b246df8f9039afb4144a1f6fd8d2ca17a180786b69acc140d282b71a49"
   }
  }
 },
 "nbformat": 4,
 "nbformat_minor": 2
}
